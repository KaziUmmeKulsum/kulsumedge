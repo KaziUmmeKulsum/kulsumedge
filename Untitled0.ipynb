{
  "nbformat": 4,
  "nbformat_minor": 0,
  "metadata": {
    "colab": {
      "provenance": [],
      "toc_visible": true,
      "mount_file_id": "1Fj4hJw23GIitVPJQl18TRyZ4qQ4Mw210",
      "authorship_tag": "ABX9TyPq6H8VbGH6RJqUd7dE6njH",
      "include_colab_link": true
    },
    "kernelspec": {
      "name": "python3",
      "display_name": "Python 3"
    },
    "language_info": {
      "name": "python"
    }
  },
  "cells": [
    {
      "cell_type": "markdown",
      "metadata": {
        "id": "view-in-github",
        "colab_type": "text"
      },
      "source": [
        "<a href=\"https://colab.research.google.com/github/KaziUmmeKulsum/kulsumedge/blob/main/Untitled0.ipynb\" target=\"_parent\"><img src=\"https://colab.research.google.com/assets/colab-badge.svg\" alt=\"Open In Colab\"/></a>"
      ]
    },
    {
      "cell_type": "code",
      "execution_count": 10,
      "metadata": {
        "colab": {
          "base_uri": "https://localhost:8080/"
        },
        "id": "FDpzcyxMu8nK",
        "outputId": "a94c28b0-e724-4e32-8188-f3aa5a8bd95e"
      },
      "outputs": [
        {
          "output_type": "stream",
          "name": "stdout",
          "text": [
            "3\n"
          ]
        }
      ],
      "source": [
        "x = \"John\"\n",
        "# is the same as\n",
        "x = 3\n",
        "print(x)"
      ]
    },
    {
      "cell_type": "code",
      "source": [
        "a = 4\n",
        "A = \"Sally\"\n",
        "print(A)"
      ],
      "metadata": {
        "colab": {
          "base_uri": "https://localhost:8080/"
        },
        "id": "Zpi98oLAxcUo",
        "outputId": "fa46416e-ef20-4955-b487-889bbe926431"
      },
      "execution_count": 11,
      "outputs": [
        {
          "output_type": "stream",
          "name": "stdout",
          "text": [
            "Sally\n"
          ]
        }
      ]
    },
    {
      "cell_type": "code",
      "source": [
        "name = \"Jui\"\n",
        "age = 101\n",
        "#text = \"Her name is {} and she is {} years old\"\n",
        "print(f'Her name is {name} and she is {age} years old')"
      ],
      "metadata": {
        "colab": {
          "base_uri": "https://localhost:8080/"
        },
        "id": "iXSL5QT5x-Qw",
        "outputId": "e703471e-3bcb-4ea9-b6f2-b80731e98572"
      },
      "execution_count": 14,
      "outputs": [
        {
          "output_type": "stream",
          "name": "stdout",
          "text": [
            "Her name is Jui and she is 101 years old\n"
          ]
        }
      ]
    },
    {
      "cell_type": "code",
      "source": [
        "name = \"john\"\n",
        "age = 56\n",
        "text = \"His name is {} and he is {} years old\"\n",
        "print(text.format(name,age))"
      ],
      "metadata": {
        "colab": {
          "base_uri": "https://localhost:8080/"
        },
        "id": "w5jFe36X5CGk",
        "outputId": "f886e189-d051-4777-b272-11c1a572f975"
      },
      "execution_count": 15,
      "outputs": [
        {
          "output_type": "stream",
          "name": "stdout",
          "text": [
            "His name is john and he is 56 years old\n"
          ]
        }
      ]
    }
  ]
}